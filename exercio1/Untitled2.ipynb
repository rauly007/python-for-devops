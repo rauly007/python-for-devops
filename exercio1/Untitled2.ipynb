{
 "cells": [
  {
   "cell_type": "code",
   "execution_count": 1,
   "id": "d737d2db-bf34-40a0-a426-6fab1d3347bf",
   "metadata": {},
   "outputs": [
    {
     "ename": "NameError",
     "evalue": "name 'dog_name' is not defined",
     "output_type": "error",
     "traceback": [
      "\u001b[0;31m---------------------------------------------------------------------------\u001b[0m",
      "\u001b[0;31mNameError\u001b[0m                                 Traceback (most recent call last)",
      "Cell \u001b[0;32mIn[1], line 1\u001b[0m\n\u001b[0;32m----> 1\u001b[0m \u001b[43mdog_name\u001b[49m\n",
      "\u001b[0;31mNameError\u001b[0m: name 'dog_name' is not defined"
     ]
    }
   ],
   "source": [
    "dog_name"
   ]
  },
  {
   "cell_type": "code",
   "execution_count": null,
   "id": "df9f805a-ad88-43a0-a351-2b902aa6fb0a",
   "metadata": {},
   "outputs": [],
   "source": []
  },
  {
   "cell_type": "code",
   "execution_count": 2,
   "id": "0b980287-c030-4481-aed4-970f9c915559",
   "metadata": {},
   "outputs": [],
   "source": [
    "dog_name = 'caio'"
   ]
  },
  {
   "cell_type": "code",
   "execution_count": 3,
   "id": "ac20f208-0422-41f1-8286-5db68d6faf1a",
   "metadata": {},
   "outputs": [
    {
     "data": {
      "text/plain": [
       "'caio'"
      ]
     },
     "execution_count": 3,
     "metadata": {},
     "output_type": "execute_result"
    }
   ],
   "source": [
    "dog_name"
   ]
  },
  {
   "cell_type": "code",
   "execution_count": 4,
   "id": "d02f51ba-bebd-4a0a-85e1-9184dc64ce13",
   "metadata": {},
   "outputs": [],
   "source": [
    "dog_name = 'rauly'"
   ]
  },
  {
   "cell_type": "code",
   "execution_count": 5,
   "id": "6d56a2ad-59c6-4815-9be4-03c9ea6e2a08",
   "metadata": {},
   "outputs": [
    {
     "data": {
      "text/plain": [
       "'rauly'"
      ]
     },
     "execution_count": 5,
     "metadata": {},
     "output_type": "execute_result"
    }
   ],
   "source": [
    "dog_name"
   ]
  },
  {
   "cell_type": "code",
   "execution_count": 6,
   "id": "9ac0c210-f2fa-4993-8263-0fc0362421f4",
   "metadata": {},
   "outputs": [],
   "source": [
    "dog_name = 't-' + dog_name"
   ]
  },
  {
   "cell_type": "code",
   "execution_count": 7,
   "id": "d66bced9-6f5b-42ec-93e6-f25afdd82c61",
   "metadata": {},
   "outputs": [
    {
     "data": {
      "text/plain": [
       "'t-rauly'"
      ]
     },
     "execution_count": 7,
     "metadata": {},
     "output_type": "execute_result"
    }
   ],
   "source": [
    "dog_name"
   ]
  },
  {
   "cell_type": "code",
   "execution_count": 9,
   "id": "872decf4-d16e-4636-8fe1-571a84ead5a3",
   "metadata": {},
   "outputs": [],
   "source": [
    "big ='large'"
   ]
  },
  {
   "cell_type": "code",
   "execution_count": 10,
   "id": "d24147ed-ab93-4558-af96-486802069662",
   "metadata": {},
   "outputs": [
    {
     "data": {
      "text/plain": [
       "'large'"
      ]
     },
     "execution_count": 10,
     "metadata": {},
     "output_type": "execute_result"
    }
   ],
   "source": [
    "big"
   ]
  },
  {
   "cell_type": "code",
   "execution_count": 11,
   "id": "aa8c94b8-b5ad-4cc0-b07d-018e566cfcf0",
   "metadata": {},
   "outputs": [],
   "source": [
    "big = 1000*1000"
   ]
  },
  {
   "cell_type": "code",
   "execution_count": 12,
   "id": "1b2cfa75-1f42-4359-8358-8b170dc29002",
   "metadata": {},
   "outputs": [
    {
     "data": {
      "text/plain": [
       "1000000"
      ]
     },
     "execution_count": 12,
     "metadata": {},
     "output_type": "execute_result"
    }
   ],
   "source": [
    "big"
   ]
  },
  {
   "cell_type": "code",
   "execution_count": 14,
   "id": "8859f992-c6bd-400c-a219-7bdf617e6f33",
   "metadata": {},
   "outputs": [],
   "source": [
    "big = {}"
   ]
  },
  {
   "cell_type": "code",
   "execution_count": 15,
   "id": "c6ab5db5-9d10-43ac-83a8-7326fa7a5e14",
   "metadata": {},
   "outputs": [
    {
     "data": {
      "text/plain": [
       "{}"
      ]
     },
     "execution_count": 15,
     "metadata": {},
     "output_type": "execute_result"
    }
   ],
   "source": [
    "big"
   ]
  },
  {
   "cell_type": "code",
   "execution_count": null,
   "id": "2264ff88-9b16-4ca8-a2ec-5b51d001bf30",
   "metadata": {},
   "outputs": [],
   "source": []
  }
 ],
 "metadata": {
  "kernelspec": {
   "display_name": "Python 3 (ipykernel)",
   "language": "python",
   "name": "python3"
  },
  "language_info": {
   "codemirror_mode": {
    "name": "ipython",
    "version": 3
   },
   "file_extension": ".py",
   "mimetype": "text/x-python",
   "name": "python",
   "nbconvert_exporter": "python",
   "pygments_lexer": "ipython3",
   "version": "3.10.12"
  }
 },
 "nbformat": 4,
 "nbformat_minor": 5
}
